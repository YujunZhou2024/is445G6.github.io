{
 "cells": [
  {
   "cell_type": "markdown",
   "metadata": {},
   "source": [
    "# Final Project, Part 2\n",
    "\n",
    "The purpose of this assignment is to create a 'Viz for Experts' with an interactive dashboard interface for exploring your data.\n",
    "\n",
    "For this submission option, you will submit your work through this Workspace.\n",
    "    \n",
    "**Please see Homework Prompt in PrairieLearn interface for more details on the requirements for this assignment.**\n",
    "\n",
    "A rough outline of elements of code and write-up is shown below:"
   ]
  },
  {
   "cell_type": "markdown",
   "metadata": {},
   "source": [
    "**Outline**\n",
    "\n",
    "**1. Data Preparation**\n",
    "\n",
    "1.1. Import necessary libraries.\n",
    "\n",
    "1.2. Read the dataset and perform any initial data filtering or cleaning.\n",
    "\n",
    "**2. Data Visualization**\n",
    "\n",
    "Six visualizations were built.\n",
    "\n",
    "2.1. max_aqi (2): Calculate the average maximum AQI per state and visualize it using a bar chart and a heatmap. \n",
    "\n",
    "2.2. good_days (1): Calculate and visualize the average number of good air quality days per state with a bar chart.\n",
    "\n",
    "2.3. unhealthy_days (1): Calculate and visualize the average number of bad air quality days per state with a bar chart and a year selector.\n",
    "\n",
    "2.4. air_quality_map (1): Create an interactive plot that updates based on the year selected from a dropdown, showing different kinds of day counts.\n",
    "\n",
    "2.5. aqi_trend (1): Plot the trend of AQI over the years for a selected state using a line plot with a trend line.\n",
    "\n",
    "**3. Building Dashboard and refresh button**\n",
    "\n",
    "3.1. Organize the individual visualizations into a tabbed layout using ipywidgets.tab, with each tab corresponding to a different visualization of the air quality data as shown above.\n",
    "3.2. Build a refresh button to update all visualizations with new data if needed."
   ]
  },
  {
   "cell_type": "markdown",
   "metadata": {},
   "source": [
    "## Code:\n",
    "\n",
    " * An interactive dashboard within your Workspace that helps an expert explore your dataset thoroughly.\n",
    " * There should be a \"dashboard\" type aspect to this - i.e. a linked view exploring your dataset in an interactive way (like in Lab \\#4) with [bqplot](https://bqplot.github.io/bqplot/).\n",
    " * Do not delete any cells, *just comment them out*. Show your work.\n",
    "\n"
   ]
  },
  {
   "cell_type": "code",
   "execution_count": 1,
   "metadata": {},
   "outputs": [
    {
     "name": "stderr",
     "output_type": "stream",
     "text": [
      "Matplotlib created a temporary config/cache directory at /tmp/matplotlib-6levj2ej because the default path (/tmp/cache/matplotlib) is not a writable directory; it is highly recommended to set the MPLCONFIGDIR environment variable to a writable directory, in particular to speed up the import of Matplotlib and to better support multiprocessing.\n"
     ]
    }
   ],
   "source": [
    "import pandas as pd\n",
    "import numpy as np\n",
    "import bqplot as bq\n",
    "import ipywidgets as widgets\n",
    "import matplotlib.pyplot as plt\n",
    "from matplotlib.colors import LinearSegmentedColormap\n",
    "from IPython.display import display"
   ]
  },
  {
   "cell_type": "code",
   "execution_count": 2,
   "metadata": {},
   "outputs": [],
   "source": [
    "df = pd.read_csv(\"annual_aqi_by_county_2018-2023.csv\")"
   ]
  },
  {
   "cell_type": "code",
   "execution_count": 3,
   "metadata": {},
   "outputs": [],
   "source": [
    "def max_aqi():\n",
    "    state_max_aqi = df.groupby('State')['Max AQI'].mean().reset_index()\n",
    "    state_max_aqi.columns = ['State', 'Average Max AQI']\n",
    "\n",
    "    colors = ['green', 'yellow', 'orange', 'red', 'purple', 'maroon']\n",
    "    n_bins = [0, 50, 100, 150, 200, 300, 400]\n",
    "    color_map_name = 'aqi_scale'\n",
    "    aqi_cmap = LinearSegmentedColormap.from_list(color_map_name, colors, N=400)\n",
    "    plt.figure(figsize=(25, 6))\n",
    "    norm = plt.Normalize(min(state_max_aqi['Average Max AQI']), max(state_max_aqi['Average Max AQI']))\n",
    "    plt.bar(state_max_aqi['State'], state_max_aqi['Average Max AQI'], color=aqi_cmap(norm(state_max_aqi['Average Max AQI'])))\n",
    "    plt.xlabel('State')\n",
    "    plt.ylabel('Average Max AQI')\n",
    "    plt.title('Average Max AQI')\n",
    "    plt.xticks(rotation=45)\n",
    "    plt.show()"
   ]
  },
  {
   "cell_type": "code",
   "execution_count": 4,
   "metadata": {},
   "outputs": [],
   "source": [
    "def good_days():\n",
    "    state_avg = df.groupby('State')['Good Days'].mean().reset_index()\n",
    "    state_avg.columns = ['State', 'Average Good Days']\n",
    "    plt.figure(figsize=(25, 6))\n",
    "    plt.bar(state_avg['State'], state_avg['Average Good Days'], color='skyblue')\n",
    "    plt.xlabel('State')\n",
    "    plt.ylabel('Average Good Days')\n",
    "    plt.title('Average Good Days per State')\n",
    "    plt.xticks(rotation=45)\n",
    "    plt.show()"
   ]
  },
  {
   "cell_type": "code",
   "execution_count": 5,
   "metadata": {},
   "outputs": [],
   "source": [
    "def update_plot(year):\n",
    "    df_year = df[df['Year'] == year]\n",
    "\n",
    "    state_avg = df_year.groupby('State')['Good Days'].mean().reset_index()\n",
    "    state_avg.columns = ['State', 'Average Good Days']\n",
    "\n",
    "    plt.figure(figsize=(25, 6))\n",
    "    plt.bar(state_avg['State'], state_avg['Average Good Days'], color='skyblue')\n",
    "    plt.xlabel('State')\n",
    "    plt.ylabel('Average Good Days')\n",
    "    plt.title(f'Average Good Days per State ({year})')\n",
    "    plt.xticks(rotation=45)\n",
    "    plt.show()\n",
    "\n",
    "year_dropdown = widgets.Dropdown(options=df['Year'].unique(), description='Year:')\n",
    "good_days_per_state=widgets.interactive(update_plot, year=year_dropdown)\n"
   ]
  },
  {
   "cell_type": "code",
   "execution_count": 6,
   "metadata": {},
   "outputs": [],
   "source": [
    "def update_plot(year):\n",
    "    df_year = df[df['Year'] == year]\n",
    "\n",
    "    state_avg = df_year.groupby('State')['Good Days'].mean().reset_index()\n",
    "    state_avg.columns = ['State', 'Good Days']\n",
    "\n",
    "    plt.figure(figsize=(15, 8))\n",
    "    plt.scatter(state_avg['State'], state_avg['Good Days'], s=100)\n",
    "    plt.xlabel('State')\n",
    "    plt.ylabel('Unhealthy Days')\n",
    "    plt.title(f'Unhealthy Days per State ({year})')\n",
    "    plt.xticks(rotation=45)\n",
    "    plt.grid(True)\n",
    "    plt.show()\n",
    "\n",
    "year_dropdown = widgets.Dropdown(options=df['Year'].unique(), description='Year:')\n",
    "unhealthy_days_per_state= widgets.interactive(update_plot, year=year_dropdown)"
   ]
  },
  {
   "cell_type": "code",
   "execution_count": 7,
   "metadata": {},
   "outputs": [
    {
     "data": {
      "application/vnd.jupyter.widget-view+json": {
       "model_id": "7aa2dd8d0fdd4ddb8e56ce765cf98e7b",
       "version_major": 2,
       "version_minor": 0
      },
      "text/plain": [
       "VBox(children=(Dropdown(description='Select Year:', index=5, options=(('2018', 2018), ('2019', 2019), ('2020',…"
      ]
     },
     "metadata": {},
     "output_type": "display_data"
    }
   ],
   "source": [
    "state_ids = {'Alabama': '1', 'Alaska': '2', 'Arizona': '4', 'Arkansas': '5', 'California': '6', 'Colorado': '8', 'Connecticut': '9',\n",
    "             'District Of Columbia': '10', 'Florida': '12', 'Georgia': '13', 'Hawaii': '15', 'Idaho': '16', 'Illinois': '17', 'Indiana': '18',\n",
    "             'Iowa': '19', 'Kansas': '20', 'Kentucky': '21', 'Louisiana': '22', 'Maine': '23', 'Maryland': '24', 'Massachusetts': '25',\n",
    "             'Michigan': '26', 'Minnesota': '27', 'Mississippi': '28', 'Missouri': '29', 'Montana': '30', 'Nebraska': '31', 'Nevada': '32',\n",
    "             'New Hampshire': '33', 'New Jersey': '34', 'New Mexico': '35', 'New York': '36', 'North Carolina': '37', 'North Dakota': '38', 'Ohio': '39',\n",
    "             'Oklahoma': '40', 'Oregon': '41', 'Pennsylvania': '42', 'Rhode Island': '44', 'South Carolina': '45', 'South Dakota': '46', 'Tennessee': '47',\n",
    "             'Texas': '48', 'Utah': '49', 'Vermont': '50', 'Virginia': '51', 'Washington': '53', 'West Virginia': '54', 'Wisconsin': '55',\n",
    "             'Wyoming': '56'}\n",
    "\n",
    "#I filtered Country of Mexico and Puerto Rico out because i found that the U.S. map I loaded does not include these two states?\n",
    "df_filtered = df[(df['State'] != 'Country Of Mexico') & (df['State'] != 'Puerto Rico')]\n",
    "color_scale = bq.ColorScale(scheme='BuPu')\n",
    "color_axis = bq.ColorAxis(scale=color_scale, orientation='vertical', side='right')\n",
    "initial_colors = {state_ids[state]: 0 for state in df_filtered['State'].unique()}\n",
    "us_map = bq.Map(\n",
    "    map_data=bq.topo_load('map_data/USStatesMap.json'),\n",
    "    scales={'projection': bq.AlbersUSA(), 'color': color_scale},\n",
    "    color=initial_colors\n",
    ")\n",
    "\n",
    "# Tooltip\n",
    "tooltip = bq.Tooltip(fields=['name', 'color'], labels=['State', 'Median AQI'])\n",
    "us_map.tooltip = tooltip\n",
    "\n",
    "fig = bq.Figure(marks=[us_map], axes=[color_axis], title='2018-2023 U.S. Air Quality Map')\n",
    "\n",
    "\n",
    "def update_map(*args):\n",
    "    year = year_selector.value\n",
    "    # Filter the dataframe for the selected year and valid states\n",
    "    df_filtered = df[(df['Year'] == year) & (df['State'] != 'Country Of Mexico') & (df['State'] != 'Puerto Rico')]\n",
    "\n",
    "    column_name = selector.value  # Use the AQI type dropdown value directly\n",
    "    new_colors = {}\n",
    "    for state in state_ids.keys():\n",
    "        state_data = df_filtered[df_filtered['State'] == state]\n",
    "        # The good/moderate day count representing each state is calculated by the day count mean of all the counties in that state.\n",
    "        avg_day_count = state_data[column_name].mean() if not state_data.empty else 0\n",
    "        new_colors[state_ids[state]] = avg_day_count\n",
    "    us_map.color = new_colors\n",
    "\n",
    "\n",
    "selector = widgets.Dropdown(\n",
    "    options=['Good Days', 'Moderate Days', 'Unhealthy for Sensitive Groups Days',\n",
    "             'Unhealthy Days', 'Very Unhealthy Days', 'Hazardous Days'],\n",
    "    value='Good Days',\n",
    "    description='Select AQI Days:',\n",
    "    disabled=False\n",
    ")\n",
    "\n",
    "year_selector = widgets.Dropdown(\n",
    "    options=[('2018', 2018), ('2019', 2019), ('2020', 2020), ('2021', 2021), ('2022', 2022), ('2023', 2023)],\n",
    "    value=2023,\n",
    "    description='Select Year:',\n",
    "    disabled=False\n",
    ")\n",
    "\n",
    "selector.observe(update_map, 'value')\n",
    "year_selector.observe(update_map, 'value')\n",
    "vbox = widgets.VBox([year_selector, selector, fig])\n",
    "display(vbox)\n",
    "update_map()\n",
    "air_quality_map = widgets.VBox([year_selector, selector, fig])"
   ]
  },
  {
   "cell_type": "code",
   "execution_count": 8,
   "metadata": {},
   "outputs": [],
   "source": [
    "import seaborn as sns\n",
    "def heatmap():\n",
    "    heatmap_data = df.groupby(['State', 'Year'])['Max AQI'].mean().unstack()\n",
    "\n",
    "    plt.figure(figsize=(15, 10))\n",
    "    sns.heatmap(heatmap_data, annot=True, cmap='Purples', fmt=\".0f\")\n",
    "    plt.title('Average Max AQI per State Over Years')\n",
    "    plt.xlabel('Year')\n",
    "    plt.ylabel('State')\n",
    "    plt.show()"
   ]
  },
  {
   "cell_type": "code",
   "execution_count": 9,
   "metadata": {},
   "outputs": [],
   "source": [
    "import pandas as pd\n",
    "import matplotlib.pyplot as plt\n",
    "import seaborn as sns\n",
    "from sklearn.linear_model import LinearRegression\n",
    "import numpy as np\n",
    "\n",
    "def plot_aqi_trend(state):\n",
    "    df = pd.read_csv(\"annual_aqi_by_county_2018-2023.csv\")\n",
    "    state_data = df[df['State'] == state]\n",
    "    yearly_aqi = state_data.groupby('Year')['Max AQI'].mean().reset_index()\n",
    "\n",
    "    plt.figure(figsize=(10, 5))\n",
    "    plt.plot(yearly_aqi['Year'], yearly_aqi['Max AQI'], marker='o', label='Average Max AQI')\n",
    "    model = LinearRegression()\n",
    "    model.fit(yearly_aqi['Year'].values.reshape(-1, 1), yearly_aqi['Max AQI'].values.reshape(-1, 1))\n",
    "    trend_line = model.predict(yearly_aqi['Year'].values.reshape(-1, 1))\n",
    "    plt.plot(yearly_aqi['Year'], trend_line, label='Trend Line', linestyle='--', color='red')\n",
    "\n",
    "    #plot detials\n",
    "    plt.title(f'Time Series of AQI for {state}')\n",
    "    plt.xlabel('Year')\n",
    "    plt.ylabel('Average Max AQI')\n",
    "    plt.legend()\n",
    "    plt.grid(True)\n",
    "    plt.show()\n",
    "\n",
    "states = df['State'].unique()\n",
    "state_selector = widgets.Dropdown(\n",
    "    options=states,\n",
    "    value=states[0],\n",
    "    description='State:',\n",
    "    disabled=False,\n",
    ")\n",
    "\n",
    "# interactive widget to allow users to pick which state they want to vizualise\n",
    "aqi_trend = widgets.interactive(plot_aqi_trend, state=state_selector)\n"
   ]
  },
  {
   "cell_type": "code",
   "execution_count": 10,
   "metadata": {},
   "outputs": [
    {
     "data": {
      "application/vnd.jupyter.widget-view+json": {
       "model_id": "1ae579ed6d484eeeb0bfa4810dcbe88b",
       "version_major": 2,
       "version_minor": 0
      },
      "text/plain": [
       "VBox(children=(Tab(children=(Output(), Output(), interactive(children=(Dropdown(description='Year:', options=(…"
      ]
     },
     "metadata": {},
     "output_type": "display_data"
    }
   ],
   "source": [
    "tab = widgets.Tab()\n",
    "\n",
    "tab.children = [\n",
    "    widgets.interactive_output(max_aqi, {}),\n",
    "    widgets.interactive_output(heatmap, {}),\n",
    "    good_days_per_state, \n",
    "    unhealthy_days_per_state,\n",
    "    air_quality_map,\n",
    "    aqi_trend\n",
    "]\n",
    "\n",
    "tab.set_title(0, 'Average Max AQI per State')\n",
    "tab.set_title(1, 'Heatmap: Average Max AQI per State')\n",
    "tab.set_title(2, 'Average Good Days per State')\n",
    "tab.set_title(3, 'Average Unhealthy Days per State')\n",
    "tab.set_title(4, 'U.S. Air Quality Map')\n",
    "tab.set_title(5, 'Time Series of AQI trend')\n",
    "\n",
    "def refresh_visualizations():\n",
    "    #change the file name when new report is released\n",
    "    data = pd.read_csv(\"annual_aqi_by_county_2018-2023.csv\")\n",
    "    tab.children = [\n",
    "    widgets.interactive_output(max_aqi, {}),\n",
    "    widgets.interactive_output(heatmap, {}),\n",
    "    good_days_per_state, \n",
    "    unhealthy_days_per_state,\n",
    "    air_quality_map,\n",
    "    aqi_trend\n",
    "]\n",
    "\n",
    "# Building a refresh button at the bottom\n",
    "refresh_button = widgets.Button(description=\"Refresh Data\")\n",
    "refresh_button.on_click(lambda b: refresh_visualizations())\n",
    "layout = widgets.VBox([tab, refresh_button])\n",
    "display(layout)"
   ]
  },
  {
   "cell_type": "markdown",
   "metadata": {},
   "source": [
    "## Prose:\n",
    "\n",
    "* One paragraph explaining how to use the dashboard you created, to help someone who is not an expert understand your dataset.\n",
    "* A list of 1 or more contextual datasets you have identified, links to where they reside, and a sentence about why they might be useful in telling the final story.\n",
    "  * by \"contextual dataset\" here means a dataset that would add context to your chosen dataset. For example, if your dataset is the Champaign bus routes, some interesting contextual datasets could be the Chicago bus routes, or the Springfield bus routes, or the Amtrak routes in Champaign\n",
    "  * you do not have to do anything with this dataset at the moment beyond writing a bit about why it would be useful. Looking forward, you will want to include \"contextual visualizations\" (which you may or may not generate on your own) in your Final Project, Part 3 and identifying a possibly useful dataset is a great way to start looking for contextual visualizations.\n",
    "* If you have identified your dataset as a \"large one\" (i.e. larger than the GitHub file upload limit) comment on if you want to revise your plan for hosting this data or not. If this does not apply to your dataset please explicitly state this.\n",
    "* Additionally, please note that as of writing, it is not possible to embed images within Starboard. Be sure to address how you plan on including your contextual dataset to add context to your main dataset given that you won't be able to directly embed images if you plan on using Starboard for Part 3.1 of the Final Project.\n"
   ]
  },
  {
   "cell_type": "markdown",
   "metadata": {},
   "source": [
    "**One paragraph explaining how to use the dashboard you created, to help someone who is not an expert understand your dataset.**\n",
    "This interactive dashboard provides a comprehensive view of air quality across the U.S. states from 2018 to 2023. It features several visualizations to explore different aspects of air quality, such as the average maximum Air Quality Index (AQI), good and unhealthy air days, and state-specific AQI trends over the years. Users can select specific years or states using dropdown menus to filter the data displayed. For instance, by choosing a year in the \"Average Good Days per State\" visualization, one can see how many days each state had good air quality in that particular year. Similarly, the \"Time Series of AQI trend\" allows users to select a state and view its AQI trend across different years, highlighted with a trend line. Moreover, a map visualization shows overall air quality by state, using color coding to represent different AQI levels. This dashboard is designed to be user-friendly: simply select the desired year or state from the dropdown menus to update the visualizations accordingly. I also built a \"Refresh Data\" button at the bottom of the dashboard to update the visualizations with the latest data, ensuring the information displayed remains current.\n",
    "\n",
    "**A list of 1 or more contextual datasets you have identified, links to where they reside, and a sentence about why they might be useful in telling the final story**\n",
    "I want to add one more contextual dataset: USGC Earthquake Dataset (https://earthquake.usgs.gov/earthquakes/map/?extent=22.67485,-125.94727&extent=51.34434,-64.07227). Earthquakes, like volcanos, can release sulfur dioxide into the air as well as stir up dust. It might be interesting to know whether the states that have more earthquakes also tend to exhibit worse air quality than those where earthquakes take place less often. "
   ]
  },
  {
   "cell_type": "code",
   "execution_count": null,
   "metadata": {},
   "outputs": [],
   "source": []
  },
  {
   "cell_type": "code",
   "execution_count": null,
   "metadata": {},
   "outputs": [],
   "source": []
  },
  {
   "cell_type": "markdown",
   "metadata": {},
   "source": [
    "## Plot Summary\n",
    "\n",
    "Summarize the characteristics of the dataset in words: what does it represent, what are the fields/columns/rows, what data types are they, etc."
   ]
  },
  {
   "cell_type": "markdown",
   "metadata": {},
   "source": [
    "The dataset \"annual_aqi_by_county_2018-2023.csv\" represents a comprehensive overview of air quality across various states in the United States from year 2018-2023. It provides detailed insights into daily air quality indices (AQI). \n",
    "\n",
    "The fields/columns/rows and data types include:\n",
    "\n",
    "State (String): Name of the state.\n",
    "\n",
    "County (String): Name of the county.\n",
    "\n",
    "Good Days, Moderate Days, Unhealthy for Sensitive Groups Days, Unhealthy Days, Very Unhealthy Days, Hazardous Days, Days CO, Days NO2, Days Ozone, Days PM2.5, Days PM10(Integer): Number of days falling into each air quality category.\n",
    "\n",
    "Max AQI, 90th percentile AQI, Median AQI (Integer): AQI metrics."
   ]
  },
  {
   "cell_type": "code",
   "execution_count": null,
   "metadata": {},
   "outputs": [],
   "source": []
  }
 ],
 "metadata": {
  "kernelspec": {
   "display_name": "Python 3",
   "language": "python",
   "name": "python3"
  },
  "language_info": {
   "codemirror_mode": {
    "name": "ipython",
    "version": 3
   },
   "file_extension": ".py",
   "mimetype": "text/x-python",
   "name": "python",
   "nbconvert_exporter": "python",
   "pygments_lexer": "ipython3",
   "version": "3.8.6"
  }
 },
 "nbformat": 4,
 "nbformat_minor": 4
}
